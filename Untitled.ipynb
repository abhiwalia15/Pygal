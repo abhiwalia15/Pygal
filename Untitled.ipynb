{
 "cells": [
  {
   "cell_type": "code",
   "execution_count": 1,
   "metadata": {},
   "outputs": [],
   "source": [
    "import pygal\n",
    "\n",
    "lables = [0,1,2,3,4,5]\n",
    "squares = [0,1,4,9,16,25]\n",
    "\n",
    "chart = pygal.Bar()\n",
    "chart.force_uri_protocol = 'http'\n",
    "chart.x_labels = lables\n",
    "chart.add('x^2', squares)"
   ]
  }
 ],
 "metadata": {
  "kernelspec": {
   "display_name": "Python 3",
   "language": "python",
   "name": "python3"
  },
  "language_info": {
   "codemirror_mode": {
    "name": "ipython",
    "version": 3
   },
   "file_extension": ".py",
   "mimetype": "text/x-python",
   "name": "python",
   "nbconvert_exporter": "python",
   "pygments_lexer": "ipython3",
   "version": "3.6.5"
  }
 },
 "nbformat": 4,
 "nbformat_minor": 2
}
