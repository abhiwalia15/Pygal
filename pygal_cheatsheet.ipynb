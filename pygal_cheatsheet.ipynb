{
 "cells": [
  {
   "cell_type": "code",
   "execution_count": 1,
   "metadata": {},
   "outputs": [],
   "source": [
    "import pygal \n",
    " \n",
    "squares = [ (0, 0), (1, 1), (2, 4), (3, 9), (4, 16), (5, 25)]\n",
    "chart = pygal.XY(stroke=False)\n",
    "chart.force_uri_protocol = 'http' \n",
    "chart.add('x^2', squares) \n",
    "chart.render_to_file('squares_scatter.svg')"
   ]
  },
  {
   "cell_type": "code",
   "execution_count": 7,
   "metadata": {},
   "outputs": [],
   "source": [
    "import pygal \n",
    " \n",
    "squares =  {1:18, 2:16, 3:18, 4:17, 5:18, 6:13}   \n",
    "chart = pygal.Bar()\n",
    "chart.force_uri_protocol = 'http'\n",
    "chart.x_labels = squares.keys()\n",
    "chart.add('x^2', squares.values()) \n",
    "chart.render_to_file('squ.svg')"
   ]
  },
  {
   "cell_type": "code",
   "execution_count": 8,
   "metadata": {},
   "outputs": [],
   "source": [
    "import pygal \n",
    " \n",
    "squares =  {1:1, 2:4, 3:9, 4:16, 5:25, 6:36}   \n",
    "chart = pygal.Line()\n",
    "chart.force_uri_protocol = 'http'\n",
    "chart.x_labels = squares.keys()\n",
    "chart.add('x^2', squares.values()) \n",
    "chart.render_to_file('squares.svg')"
   ]
  },
  {
   "cell_type": "code",
   "execution_count": 9,
   "metadata": {},
   "outputs": [],
   "source": [
    "import pygal \n",
    " \n",
    "squares =  {1:1, 2:4, 3:9, 4:16, 5:25, 6:36}   \n",
    "chart = pygal.XY(stroke=False)\n",
    "chart.force_uri_protocol = 'http'\n",
    "chart.x_labels = squares.keys()\n",
    "chart.add('x^2', squares.values()) \n",
    "chart.render_to_file('squares_scatter1.svg')"
   ]
  },
  {
   "cell_type": "code",
   "execution_count": 33,
   "metadata": {},
   "outputs": [],
   "source": [
    "from pygal.style import LightGreenStyle\n",
    "\n",
    "x_values = list(range(11)) \n",
    "squares = [x**2 for x in x_values] \n",
    "cubes = [x**3 for x in x_values] \n",
    "\n",
    "chart_style = LightGreenStyle()\n",
    "chart = pygal.Line(style= chart_style)\n",
    "#(fill=True, zero=1)\n",
    "chart.force_uri_protocol = 'http'\n",
    "chart.x_title = 'values'\n",
    "chart.title = 'SQUARES AND CUBES'\n",
    "chart.x_labels = x_values\n",
    "chart.add('squares', squares)\n",
    "chart.add('cubes', cubes)\n",
    "chart.render_to_file('squ_cub1.svg')"
   ]
  },
  {
   "cell_type": "code",
   "execution_count": 37,
   "metadata": {},
   "outputs": [],
   "source": [
    "from pygal.style import LightGreenStyle\n",
    "from pygal.style import LightenStyle \n",
    "\n",
    "x_values = list(range(11)) \n",
    "squares = [x**2 for x in x_values] \n",
    "cubes = [x**3 for x in x_values] \n",
    "\n",
    "chart_style = LightenStyle('#000') \n",
    "chart = pygal.Line(style=chart_style,fill=True, zero=1)\n",
    "chart.force_uri_protocol = 'http'\n",
    "chart.x_title = 'values'\n",
    "chart.title = 'SQUARES AND CUBES'\n",
    "chart.x_labels = x_values\n",
    "chart.add('squares', squares)\n",
    "chart.add('cubes', cubes)\n",
    "chart.render_to_file('squ_cub2.svg')"
   ]
  },
  {
   "cell_type": "code",
   "execution_count": 46,
   "metadata": {},
   "outputs": [],
   "source": [
    "from pygal.style import LightGreenStyle\n",
    "from pygal.style import LightenStyle \n",
    "\n",
    "x_values = list(range(11)) \n",
    "squares = [x**2 for x in x_values] \n",
    "cubes = [x**3 for x in x_values] \n",
    "\n",
    "chart_style = LightGreenStyle()\n",
    "chart = pygal.Line(style= chart_style, fill=True, zero=1)\n",
    "chart_style.plot_background = '#505051'\n",
    "chart_style.major_label_font_size = 20\n",
    "chart_style.label_font_size = 15\n",
    "chart.force_uri_protocol = 'http'\n",
    "chart.x_title = 'values'\n",
    "chart.title = 'SQUARES AND CUBES'\n",
    "chart.x_labels = x_values\n",
    "chart.add('squares', squares)\n",
    "chart.add('cubes', cubes)\n",
    "chart.render_to_file('squ_cub3.svg')\n"
   ]
  },
  {
   "cell_type": "code",
   "execution_count": 55,
   "metadata": {},
   "outputs": [],
   "source": [
    "from pygal.style import LightGreenStyle\n",
    "from pygal.style import LightenStyle \n",
    "from pygal.style import *\n",
    "\n",
    "x_values = list(range(11)) \n",
    "squares = [x**2 for x in x_values] \n",
    "cubes = [x**3 for x in x_values] \n",
    "\n",
    "chart_style = Style()\n",
    "chart_style.plot_background = '#150299'\n",
    "chart_style.colors = ['#fff','#fff']\n",
    "chart = pygal.Line(style= chart_style, fill=True, zero=1)\n",
    "chart_style.major_label_font_size = 20\n",
    "chart_style.label_font_size = 15\n",
    "chart.force_uri_protocol = 'http'\n",
    "chart.x_title = 'values'\n",
    "chart.title = 'SQUARES AND CUBES'\n",
    "chart.x_labels = x_values\n",
    "chart.add('squares', squares)\n",
    "chart.add('cubes', cubes)\n",
    "chart.render_to_file('squ_cub4.svg')\n"
   ]
  },
  {
   "cell_type": "code",
   "execution_count": 64,
   "metadata": {},
   "outputs": [],
   "source": [
    "from pygal.style import LightGreenStyle\n",
    "from pygal.style import LightenStyle \n",
    "from pygal.style import *\n",
    "\n",
    "x_values = list(range(11)) \n",
    "squares = [x**2 for x in x_values] \n",
    "cubes = [x**3 for x in x_values] \n",
    "\n",
    "chart_style = Style()\n",
    "chart_style.plot_background = '#363633'\n",
    "chart_style.colors = ['#336688','#fff']\n",
    "\n",
    "my_config = pygal.Config()\n",
    "my_config.width = 1000\n",
    "my_config.height = 720\n",
    "#my_config.dots_size = 5\n",
    "my_config.show_y_guides = False\n",
    "my_config.show_legend = False\n",
    "\n",
    "chart = pygal.Line(style= chart_style,config = my_config)\n",
    "#fill=True, zero=1\n",
    "\n",
    "chart_style.major_label_font_size = 20\n",
    "chart_style.label_font_size = 15\n",
    "chart_style.title_font_size = 25\n",
    "\n",
    "chart.force_uri_protocol = 'http'\n",
    "\n",
    "chart.x_title = 'values'\n",
    "chart.title = 'SQUARES AND CUBES'\n",
    "chart.x_labels = x_values\n",
    "\n",
    "chart.add('squares', squares, dots_size=3)\n",
    "chart.add('cubes', cubes, dots_size=5)\n",
    "chart.render_to_file('squ_cub5.svg')\n"
   ]
  },
  {
   "cell_type": "code",
   "execution_count": 66,
   "metadata": {},
   "outputs": [],
   "source": [
    "import pygal \n",
    " \n",
    "repos = [     \n",
    "    {         \n",
    "        'value': 20506,\n",
    "        'color': '#3333CC',\n",
    "        'xlink': 'http://djangoproject.com/',\n",
    "    },\n",
    "    20054,\n",
    "    12607,\n",
    "    11827,\n",
    "] \n",
    " \n",
    "chart = pygal.Bar() \n",
    "chart.force_uri_protocol = 'http' \n",
    "chart.x_labels = [     'django', 'requests', 'scikit-learn',     'tornado',     ] \n",
    "chart.y_title = 'Stars' \n",
    "chart.add('Python Repos', repos) \n",
    "chart.render_to_file('python_repos.svg') "
   ]
  }
 ],
 "metadata": {
  "kernelspec": {
   "display_name": "Python 3",
   "language": "python",
   "name": "python3"
  },
  "language_info": {
   "codemirror_mode": {
    "name": "ipython",
    "version": 3
   },
   "file_extension": ".py",
   "mimetype": "text/x-python",
   "name": "python",
   "nbconvert_exporter": "python",
   "pygments_lexer": "ipython3",
   "version": "3.6.5"
  }
 },
 "nbformat": 4,
 "nbformat_minor": 2
}
